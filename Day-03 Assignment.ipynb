{
 "cells": [
  {
   "cell_type": "code",
   "execution_count": 25,
   "metadata": {},
   "outputs": [
    {
     "name": "stdout",
     "output_type": "stream",
     "text": [
      "Subtraction of two complex number is  (-1+4j)\n"
     ]
    }
   ],
   "source": [
    "# Question 1 :\n",
    "# Write a program to subtract two complex numbers in Python.\n",
    "\n",
    "x= complex(2,3)\n",
    "y= complex(1,7)\n",
    "z= y-x\n",
    "print(\"Subtraction of two complex number is \" , z)"
   ]
  },
  {
   "cell_type": "code",
   "execution_count": 26,
   "metadata": {},
   "outputs": [
    {
     "name": "stdout",
     "output_type": "stream",
     "text": [
      "enter the number16\n",
      "Fourth root of the number is 2.0\n"
     ]
    }
   ],
   "source": [
    "# Question 2 :\n",
    "# Write a program to find the fourth root of a number.\n",
    "\n",
    "x= int(input(\"enter the number\"))\n",
    "print(\"Fourth root of the number is\", x**(1/4))"
   ]
  },
  {
   "cell_type": "code",
   "execution_count": 27,
   "metadata": {},
   "outputs": [
    {
     "name": "stdout",
     "output_type": "stream",
     "text": [
      "Enter the first number 1\n",
      "Enter the Second number 2\n",
      "First number is  2\n",
      "Second number is  1\n"
     ]
    }
   ],
   "source": [
    "# Question 3:\n",
    "# Write a program to swap two numbers in Python with the help of a temporary variable.\n",
    "\n",
    "x=int(input(\"Enter the first number \"))\n",
    "y=int(input(\"Enter the Second number \"))\n",
    "temp= x\n",
    "x=y\n",
    "y= temp\n",
    "print(\"First number is \", x)\n",
    "print(\"Second number is \", y)\n",
    "\n"
   ]
  },
  {
   "cell_type": "code",
   "execution_count": 24,
   "metadata": {},
   "outputs": [
    {
     "name": "stdout",
     "output_type": "stream",
     "text": [
      "Enter the first number 1\n",
      "Enter the Second number 2\n",
      "First number is 2 second is 1\n"
     ]
    }
   ],
   "source": [
    "# Question 4:\n",
    "# Write a program to swap two numbers in Python without using a temporary variable.\n",
    "\n",
    "x=int(input(\"Enter the first number \"))\n",
    "y=int(input(\"Enter the Second number \"))\n",
    "x,y = y,x\n",
    "print(\"First number is \"+str(x)+\" second is \"+str(y))"
   ]
  },
  {
   "cell_type": "code",
   "execution_count": 19,
   "metadata": {},
   "outputs": [
    {
     "name": "stdout",
     "output_type": "stream",
     "text": [
      "Enter temperature in Fahrenheit 32\n",
      "Temperature in Kelvin is  273.15\n",
      "Temperature in Celcius is  0.0\n"
     ]
    }
   ],
   "source": [
    "# Question 5:\n",
    "# Write a program to convert fahrenheit to kelvin and celsius both.\n",
    "\n",
    "far = float(input(\"Enter temperature in Fahrenheit \"))\n",
    "kel = (far-32)*5/9+273.15\n",
    "print(\"Temperature in Kelvin is \", kel)\n",
    "cel= (far-32)*5/9\n",
    "print(\"Temperature in Celcius is \", cel)"
   ]
  },
  {
   "cell_type": "code",
   "execution_count": 23,
   "metadata": {},
   "outputs": [
    {
     "name": "stdout",
     "output_type": "stream",
     "text": [
      "10  type is  <class 'int'>\n",
      "10.0  type is  <class 'float'>\n",
      "(1+2j)  type is  <class 'complex'>\n",
      "True  type is  <class 'bool'>\n",
      "hello  type is  <class 'str'>\n"
     ]
    }
   ],
   "source": [
    "# Question 6:\n",
    "# Write a program to demonstrate all the available data types in Python. Hint: Use type() function.\n",
    "a=10\n",
    "print(a ,\" type is \", type(a))\n",
    "a=10.0\n",
    "print(a,\" type is \", type(a))\n",
    "a=1+2j\n",
    "print(a,\" type is \", type(a))\n",
    "a = True\n",
    "print(a,\" type is \", type(a))\n",
    "a=\"hello\"\n",
    "print(a,\" type is \", type(a))\n"
   ]
  },
  {
   "cell_type": "markdown",
   "metadata": {},
   "source": [
    "# Question 7:\n",
    "Create a Markdown cell in jupyter and list the steps discussed in the session by Dr. Darshan Ingle sir to create Github profile and upload Githubs Assignment link.\n",
    "\n",
    "Step 1: Create your Github account just like a gmail account\n",
    "Step 2: Create a repository with the name 'LetsUpgradeAI-ML'.(Remember: the repository should be public)\n",
    "Step 3: Upload your .ipynb file in the repository with name of the day, ex: Day-03\n",
    "\n"
   ]
  },
  {
   "cell_type": "code",
   "execution_count": null,
   "metadata": {},
   "outputs": [],
   "source": []
  }
 ],
 "metadata": {
  "kernelspec": {
   "display_name": "Python 3",
   "language": "python",
   "name": "python3"
  },
  "language_info": {
   "codemirror_mode": {
    "name": "ipython",
    "version": 3
   },
   "file_extension": ".py",
   "mimetype": "text/x-python",
   "name": "python",
   "nbconvert_exporter": "python",
   "pygments_lexer": "ipython3",
   "version": "3.7.4"
  }
 },
 "nbformat": 4,
 "nbformat_minor": 2
}
